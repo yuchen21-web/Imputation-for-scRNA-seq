{
 "cells": [
  {
   "cell_type": "code",
   "execution_count": 1,
   "metadata": {
    "pycharm": {
     "name": "#%%\n"
    }
   },
   "outputs": [],
   "source": [
    "import torch\n",
    "from CLIMP import CLImputeUtils\n",
    "import numpy as np\n",
    "import pandas as pd\n",
    "device=torch.device('cpu')"
   ]
  },
  {
   "cell_type": "code",
   "execution_count": null,
   "metadata": {},
   "outputs": [],
   "source": [
    "########### 1. Use CLImpute to impute ##########"
   ]
  },
  {
   "cell_type": "code",
   "execution_count": 2,
   "metadata": {
    "pycharm": {
     "name": "#%%\n"
    }
   },
   "outputs": [],
   "source": [
    "### Step1. reading dataset\n",
    "device=torch.device('cpu')\n",
    "dataset_name = 'Zeisel'\n",
    "drop_rate = 0.4\n",
    "groundTruth_data, cells, genes = CLImputeUtils.load_data('CLIMP/data/Zeisel/Zeisel_top2000.csv')"
   ]
  },
  {
   "cell_type": "code",
   "execution_count": 3,
   "metadata": {
    "pycharm": {
     "name": "#%%\n"
    }
   },
   "outputs": [
    {
     "name": "stdout",
     "output_type": "stream",
     "text": [
      "dataset: Zeisel, drop rate: 0.4\n"
     ]
    }
   ],
   "source": [
    "### Step2. simulate dropout-events\n",
    "drop_data = CLImputeUtils.impute_dropout(groundTruth_data, drop_rate=drop_rate)\n",
    "print('dataset: {}, drop rate: {}'.format(dataset_name, drop_rate))"
   ]
  },
  {
   "cell_type": "code",
   "execution_count": 4,
   "metadata": {
    "pycharm": {
     "name": "#%%\n"
    }
   },
   "outputs": [
    {
     "name": "stdout",
     "output_type": "stream",
     "text": [
      "loading pre-train model\n"
     ]
    }
   ],
   "source": [
    "## Step3: training embedding\n",
    "X = torch.FloatTensor(np.copy(drop_data)).to(device)\n",
    "# Step3.1: loading the provided trained model\n",
    "model = CLImputeUtils.load_pretained_model(X, load_path='CLIMP/data/Zeisel/Zeisel_saved_model.pkl')\n",
    "\n",
    "# or Step3.1: training a model\n",
    "# model = CLImputeUtils.training(X, hidden_size=128, epoch=100, aug_rate=0.4)"
   ]
  },
  {
   "cell_type": "code",
   "execution_count": 5,
   "metadata": {
    "pycharm": {
     "name": "#%%\n"
    }
   },
   "outputs": [],
   "source": [
    "## Step4: select k similiar cells and imputation\n",
    "choose_cell = CLImputeUtils.select_neighbours(model, X, k=20)\n",
    "imputed_data = CLImputeUtils.LS_imputation(drop_data, choose_cell, device)\n",
    "\n",
    "# saved file\n",
    "# pd.DataFrame(imputed_data.T, index=genes, columns=cells).to_csv('saved path')"
   ]
  },
  {
   "cell_type": "code",
   "execution_count": 6,
   "metadata": {
    "pycharm": {
     "name": "#%%\n"
    }
   },
   "outputs": [
    {
     "name": "stdout",
     "output_type": "stream",
     "text": [
      "dropout data PCCs: 0.7735, imputed data PCCs: 0.9538\n",
      "dropout data L1: 1.8393, imputed data L1: 1.1245\n",
      "dropout data RMSE: 17.0827, imputed data RMSE: 8.1165\n"
     ]
    }
   ],
   "source": [
    "## Step5: evaluation\n",
    "print('dropout data PCCs: {:.4f}, imputed data PCCs: {:.4f}'.\n",
    "      format(CLImputeUtils.pearson_corr(drop_data, groundTruth_data), \n",
    "             CLImputeUtils.pearson_corr(imputed_data, groundTruth_data)))\n",
    "print('dropout data L1: {:.4f}, imputed data L1: {:.4f}'.\n",
    "      format(CLImputeUtils.l1_distance(drop_data, groundTruth_data), \n",
    "             CLImputeUtils.l1_distance(imputed_data, groundTruth_data)))\n",
    "print('dropout data RMSE: {:.4f}, imputed data RMSE: {:.4f}'.\n",
    "      format(CLImputeUtils.RMSE(drop_data, groundTruth_data), \n",
    "             CLImputeUtils.RMSE(imputed_data, groundTruth_data)))"
   ]
  },
  {
   "cell_type": "code",
   "execution_count": null,
   "metadata": {},
   "outputs": [],
   "source": []
  },
  {
   "cell_type": "code",
   "execution_count": null,
   "metadata": {
    "pycharm": {
     "name": "#%%\n"
    }
   },
   "outputs": [],
   "source": [
    "########### 2. Verify experimental results of Zeisel dataset in this paper ##########"
   ]
  },
  {
   "cell_type": "code",
   "execution_count": 7,
   "metadata": {},
   "outputs": [
    {
     "name": "stdout",
     "output_type": "stream",
     "text": [
      "drop rate: 0.40\n",
      "loading pre-train model\n",
      "dropout data PCCs: 0.7688, imputed data PCCs: 0.9483\n",
      "dropout data L1: 1.8372, imputed data L1: 1.0810\n",
      "dropout data RMSE: 17.2358, imputed data RMSE: 8.5091\n"
     ]
    }
   ],
   "source": [
    "## 1. loading dataset and the simulated dropout events data with 40% used in our experiment\n",
    "groundTruth_data, cells, genes = CLImputeUtils.load_data('CLIMP/data/Zeisel/Zeisel_top2000.csv')\n",
    "drop_data, _, _ = CLImputeUtils.load_data('CLIMP/data/Zeisel/Zeisel_d40.csv')\n",
    "X = torch.FloatTensor(np.copy(drop_data)).to(device)\n",
    "drop_rate = (len(groundTruth_data.nonzero()[0])-len(drop_data.nonzero()[0]))/len(groundTruth_data.nonzero()[0])\n",
    "print('drop rate: {:.2f}'.format(drop_rate))\n",
    "\n",
    "## 2. loading the saved model\n",
    "model = CLImputeUtils.load_pretained_model(X, load_path='CLIMP/data/Zeisel/Zeisel_saved_model.pkl')\n",
    "\n",
    "## 3.imputation\n",
    "choose_cell = CLImputeUtils.select_neighbours(model, X, k=20)\n",
    "imputed_data = CLImputeUtils.LS_imputation(drop_data, choose_cell, device, filter_noise=2)\n",
    "\n",
    "# saved\n",
    "# imputed_saved = pd.DataFrame(imputed_data.T, index=genes, columns=cells)\n",
    "# imputed_saved.to_csv('CLIMP/data/Zeisel/Zeisel_Imputed.csv')\n",
    "\n",
    "print('dropout data PCCs: {:.4f}, imputed data PCCs: {:.4f}'.\n",
    "      format(CLImputeUtils.pearson_corr(drop_data, groundTruth_data), \n",
    "             CLImputeUtils.pearson_corr(imputed_data, groundTruth_data)))\n",
    "print('dropout data L1: {:.4f}, imputed data L1: {:.4f}'.\n",
    "      format(CLImputeUtils.l1_distance(drop_data, groundTruth_data), \n",
    "             CLImputeUtils.l1_distance(imputed_data, groundTruth_data)))\n",
    "print('dropout data RMSE: {:.4f}, imputed data RMSE: {:.4f}'.\n",
    "      format(CLImputeUtils.RMSE(drop_data, groundTruth_data), \n",
    "             CLImputeUtils.RMSE(imputed_data, groundTruth_data)))"
   ]
  },
  {
   "cell_type": "code",
   "execution_count": 8,
   "metadata": {},
   "outputs": [
    {
     "name": "stdout",
     "output_type": "stream",
     "text": [
      "ARI: 0.879, NMI: 0.841, NMI: 0.938\n"
     ]
    }
   ],
   "source": [
    "# Verify clustering results of Zeisel dataset\n",
    "clusterResults = pd.read_csv('CLIMP/data/Zeisel/Zeisel_d40_Clustering.csv', index_col=0)\n",
    "clusterResults = clusterResults.values.squeeze()\n",
    "labels = pd.read_csv('CLIMP/data/Zeisel/Zeisel_cell_label.csv', index_col=0)\n",
    "labels = labels.values.squeeze()\n",
    "print('ARI: {:.3f}, NMI: {:.3f}, NMI: {:.3f}'.\n",
    "      format(CLImputeUtils.adjusted_rand_score(clusterResults, labels), \n",
    "             CLImputeUtils.normalized_mutual_info_score(clusterResults, labels),\n",
    "             CLImputeUtils.getPurityScore(clusterResults, labels)))"
   ]
  },
  {
   "cell_type": "code",
   "execution_count": null,
   "metadata": {},
   "outputs": [],
   "source": []
  },
  {
   "cell_type": "code",
   "execution_count": null,
   "metadata": {},
   "outputs": [],
   "source": []
  }
 ],
 "metadata": {
  "kernelspec": {
   "display_name": "Python 3",
   "language": "python",
   "name": "python3"
  },
  "language_info": {
   "codemirror_mode": {
    "name": "ipython",
    "version": 3
   },
   "file_extension": ".py",
   "mimetype": "text/x-python",
   "name": "python",
   "nbconvert_exporter": "python",
   "pygments_lexer": "ipython3",
   "version": "3.7.2"
  }
 },
 "nbformat": 4,
 "nbformat_minor": 2
}
